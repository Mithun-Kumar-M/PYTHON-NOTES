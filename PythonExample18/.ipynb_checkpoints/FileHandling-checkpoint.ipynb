{
 "cells": [
  {
   "cell_type": "markdown",
   "id": "53aca70a-78d3-49fb-916e-8c0f4917adf9",
   "metadata": {},
   "source": [
    "1.Read File:\n",
    "------------\n"
   ]
  },
  {
   "cell_type": "code",
   "execution_count": 4,
   "id": "6d97cb35-c958-4327-b4e2-b1fdd7a5cc66",
   "metadata": {},
   "outputs": [
    {
     "name": "stdout",
     "output_type": "stream",
     "text": [
      "Hi Welcome To File Handling\n",
      "\n"
     ]
    }
   ],
   "source": [
    "fileRead = open('test.txt', 'r')\n",
    "\n",
    "print(fileRead.read())\n",
    "\n",
    "fileRead.close()"
   ]
  },
  {
   "cell_type": "code",
   "execution_count": 5,
   "id": "45f109d2-6e96-499f-8f99-ee544039538a",
   "metadata": {},
   "outputs": [
    {
     "name": "stdout",
     "output_type": "stream",
     "text": [
      "Hi Welcome To File Handling\n",
      "\n"
     ]
    }
   ],
   "source": [
    "try:\n",
    "    fileRead = open('test.txt', 'r')\n",
    "except Exception as e:\n",
    "    print(e) \n",
    "else:\n",
    "    print(fileRead.read())\n",
    "    fileRead.close()\n",
    "    "
   ]
  },
  {
   "cell_type": "markdown",
   "id": "a81fbfea-cada-4b31-9bca-29a071e2b06c",
   "metadata": {},
   "source": [
    "2.File Write :\n",
    "--------------\n"
   ]
  },
  {
   "cell_type": "code",
   "execution_count": 6,
   "id": "f04c0d4f-e204-4888-8c35-1084f35f15a4",
   "metadata": {},
   "outputs": [
    {
     "name": "stdout",
     "output_type": "stream",
     "text": [
      "Before File Write method : \n",
      "Hi Welcome To File Handling\n",
      "\n",
      "------------------------------------------------------\n",
      "------------------------------------------------------\n",
      "After File Write method : \n",
      "Hi This IS write method in File Handling\n"
     ]
    }
   ],
   "source": [
    "print('Before File Write method : ')\n",
    "\n",
    "fileRead = open('test.txt', 'r')\n",
    "\n",
    "print(fileRead.read())\n",
    "\n",
    "fileRead.close()\n",
    "\n",
    "print('------------------------------------------------------')\n",
    "\n",
    "filewrite = open('test.txt', 'w')\n",
    "\n",
    "filewrite.write('Hi This IS write method in File Handling')\n",
    "\n",
    "filewrite.close()\n",
    "\n",
    "print('------------------------------------------------------')\n",
    "\n",
    "print('After File Write method : ')\n",
    "\n",
    "fileRead = open('test.txt', 'r')\n",
    "\n",
    "print(fileRead.read())\n",
    "\n",
    "fileRead.close()"
   ]
  },
  {
   "cell_type": "markdown",
   "id": "27aeb059-0617-4cf8-a854-82baa86a43a2",
   "metadata": {},
   "source": [
    "3.file append:\n",
    "--------------"
   ]
  },
  {
   "cell_type": "code",
   "execution_count": 8,
   "id": "072080c0-56a8-47bf-8ad3-57ac7b10b812",
   "metadata": {},
   "outputs": [
    {
     "name": "stdout",
     "output_type": "stream",
     "text": [
      "Before File Append method : \n",
      "Hi This IS write method in File Handling\n",
      "------------------------------------------------------\n",
      "------------------------------------------------------\n",
      "After File Append method : \n",
      "Hi This IS write method in File Handling Hi This IS Append method in File Handling\n"
     ]
    }
   ],
   "source": [
    "print('Before File Append method : ')\n",
    "\n",
    "fileRead = open('test.txt', 'r')\n",
    "\n",
    "print(fileRead.read())\n",
    "\n",
    "fileRead.close()\n",
    "\n",
    "print('------------------------------------------------------')\n",
    "\n",
    "filewrite = open('test.txt', 'a')\n",
    "\n",
    "filewrite.write(' Hi This IS Append method in File Handling')\n",
    "\n",
    "filewrite.close()\n",
    "\n",
    "print('------------------------------------------------------')\n",
    "\n",
    "print('After File Append method : ')\n",
    "\n",
    "fileRead = open('test.txt', 'r')\n",
    "\n",
    "print(fileRead.read())\n",
    "\n",
    "fileRead.close()"
   ]
  },
  {
   "cell_type": "markdown",
   "id": "e201f5e5-b5ba-4bd1-8d2c-6d7f7a5fe9c7",
   "metadata": {},
   "source": [
    "4.File Remove:\n",
    "---------------"
   ]
  },
  {
   "cell_type": "code",
   "execution_count": 9,
   "id": "6d74fad1-c0c5-4905-a49b-0c96f7b97e02",
   "metadata": {},
   "outputs": [],
   "source": [
    "import os"
   ]
  },
  {
   "cell_type": "code",
   "execution_count": null,
   "id": "7ace8f38-7228-4ec1-804f-9981f6be91d5",
   "metadata": {},
   "outputs": [],
   "source": []
  }
 ],
 "metadata": {
  "kernelspec": {
   "display_name": "Python 3 (ipykernel)",
   "language": "python",
   "name": "python3"
  },
  "language_info": {
   "codemirror_mode": {
    "name": "ipython",
    "version": 3
   },
   "file_extension": ".py",
   "mimetype": "text/x-python",
   "name": "python",
   "nbconvert_exporter": "python",
   "pygments_lexer": "ipython3",
   "version": "3.12.6"
  }
 },
 "nbformat": 4,
 "nbformat_minor": 5
}
